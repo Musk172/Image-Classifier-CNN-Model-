{
 "cells": [
  {
   "cell_type": "code",
   "execution_count": 1,
   "id": "0dc76f1d",
   "metadata": {},
   "outputs": [],
   "source": [
    "import numpy as np\n",
    "import matplotlib.pyplot as plt \n",
    "import os\n",
    "import cv2\n",
    "from tqdm import tqdm"
   ]
  },
  {
   "cell_type": "code",
   "execution_count": 25,
   "id": "3b2527e5",
   "metadata": {},
   "outputs": [],
   "source": [
    "import pandas as pd\n",
    "CATEGORIES = \"C:\\\\Users\\\\PRITAM VERMA\\\\Desktop\\\\Trafic signs\\\\labels.csv\"\n",
    "CATEGORIES = pd.read_csv(CATEGORIES)"
   ]
  },
  {
   "cell_type": "code",
   "execution_count": 26,
   "id": "fd660827",
   "metadata": {},
   "outputs": [],
   "source": [
    "DATADIR = \"C:\\\\Users\\\\PRITAM VERMA\\\\Desktop\\\\Trafic signs\\\\traffic_Data\\\\DATA\"\n",
    "LABLES = list(CATEGORIES[\"ClassId\"])"
   ]
  },
  {
   "cell_type": "code",
   "execution_count": 56,
   "id": "fa00cea4",
   "metadata": {},
   "outputs": [
    {
     "data": {
      "text/plain": [
       "50"
      ]
     },
     "execution_count": 56,
     "metadata": {},
     "output_type": "execute_result"
    }
   ],
   "source": [
    "len(LABLES)"
   ]
  },
  {
   "cell_type": "code",
   "execution_count": 27,
   "id": "0ec3314a",
   "metadata": {},
   "outputs": [],
   "source": [
    "IMG_SIZE  = 50"
   ]
  },
  {
   "cell_type": "code",
   "execution_count": 28,
   "id": "78ead0f4",
   "metadata": {},
   "outputs": [
    {
     "name": "stderr",
     "output_type": "stream",
     "text": [
      "100%|███████████████████████████████████████████████████████████████████████████████| 118/118 [00:00<00:00, 472.36it/s]\n",
      "100%|█████████████████████████████████████████████████████████████████████████████████| 40/40 [00:00<00:00, 604.70it/s]\n",
      "100%|█████████████████████████████████████████████████████████████████████████████████| 80/80 [00:00<00:00, 466.53it/s]\n",
      "100%|███████████████████████████████████████████████████████████████████████████████| 260/260 [00:00<00:00, 688.49it/s]\n",
      "100%|█████████████████████████████████████████████████████████████████████████████████| 98/98 [00:00<00:00, 648.05it/s]\n",
      "100%|███████████████████████████████████████████████████████████████████████████████| 194/194 [00:00<00:00, 676.39it/s]\n",
      "100%|█████████████████████████████████████████████████████████████████████████████████| 78/78 [00:00<00:00, 780.09it/s]\n",
      "100%|███████████████████████████████████████████████████████████████████████████████| 152/152 [00:00<00:00, 596.79it/s]\n",
      "100%|███████████████████████████████████████████████████████████████████████████████████| 8/8 [00:00<00:00, 843.29it/s]\n",
      "100%|███████████████████████████████████████████████████████████████████████████████████| 2/2 [00:00<00:00, 501.29it/s]\n",
      "100%|█████████████████████████████████████████████████████████████████████████████████| 70/70 [00:00<00:00, 989.00it/s]\n",
      "100%|███████████████████████████████████████████████████████████████████████████████| 138/138 [00:00<00:00, 827.13it/s]\n",
      "100%|█████████████████████████████████████████████████████████████████████████████████| 96/96 [00:00<00:00, 622.89it/s]\n",
      "100%|█████████████████████████████████████████████████████████████████████████████████| 36/36 [00:00<00:00, 656.07it/s]\n",
      "100%|███████████████████████████████████████████████████████████████████████████████| 128/128 [00:00<00:00, 788.77it/s]\n",
      "100%|█████████████████████████████████████████████████████████████████████████████████| 22/22 [00:00<00:00, 534.26it/s]\n",
      "100%|███████████████████████████████████████████████████████████████████████████████| 142/142 [00:00<00:00, 701.24it/s]\n",
      "100%|███████████████████████████████████████████████████████████████████████████████| 130/130 [00:00<00:00, 738.78it/s]\n",
      "100%|███████████████████████████████████████████████████████████████████████████████████| 8/8 [00:00<00:00, 298.44it/s]\n",
      "100%|███████████████████████████████████████████████████████████████████████████████████| 4/4 [00:00<00:00, 501.25it/s]\n",
      "100%|█████████████████████████████████████████████████████████████████████████████████| 18/18 [00:00<00:00, 539.33it/s]\n",
      "100%|█████████████████████████████████████████████████████████████████████████████████| 12/12 [00:00<00:00, 572.22it/s]\n",
      "100%|█████████████████████████████████████████████████████████████████████████████████| 18/18 [00:00<00:00, 495.87it/s]\n",
      "100%|█████████████████████████████████████████████████████████████████████████████████| 14/14 [00:00<00:00, 311.95it/s]\n",
      "100%|███████████████████████████████████████████████████████████████████████████████| 100/100 [00:00<00:00, 544.00it/s]\n",
      "100%|███████████████████████████████████████████████████████████████████████████████████| 2/2 [00:00<00:00, 921.22it/s]\n",
      "100%|███████████████████████████████████████████████████████████████████████████████| 126/126 [00:00<00:00, 691.72it/s]\n",
      "100%|█████████████████████████████████████████████████████████████████████████████████| 28/28 [00:00<00:00, 551.44it/s]\n",
      "100%|███████████████████████████████████████████████████████████████████████████████| 446/446 [00:00<00:00, 452.05it/s]\n",
      "100%|█████████████████████████████████████████████████████████████████████████████████| 44/44 [00:00<00:00, 848.84it/s]\n",
      "100%|███████████████████████████████████████████████████████████████████████████████| 150/150 [00:00<00:00, 460.72it/s]\n",
      "100%|█████████████████████████████████████████████████████████████████████████████████| 42/42 [00:00<00:00, 377.15it/s]\n",
      "100%|█████████████████████████████████████████████████████████████████████████████████| 14/14 [00:00<00:00, 370.64it/s]\n",
      "100%|███████████████████████████████████████████████████████████████████████████████████| 4/4 [00:00<00:00, 569.22it/s]\n",
      "100%|█████████████████████████████████████████████████████████████████████████████████| 26/26 [00:00<00:00, 452.07it/s]\n",
      "100%|███████████████████████████████████████████████████████████████████████████████| 156/156 [00:00<00:00, 411.91it/s]\n",
      "100%|█████████████████████████████████████████████████████████████████████████████████| 40/40 [00:00<00:00, 549.43it/s]\n",
      "100%|█████████████████████████████████████████████████████████████████████████████████| 58/58 [00:00<00:00, 477.27it/s]\n",
      "100%|█████████████████████████████████████████████████████████████████████████████████| 30/30 [00:00<00:00, 531.46it/s]\n",
      "100%|█████████████████████████████████████████████████████████████████████████████████| 34/34 [00:00<00:00, 595.27it/s]\n",
      "100%|█████████████████████████████████████████████████████████████████████████████████| 82/82 [00:00<00:00, 664.28it/s]\n",
      "100%|█████████████████████████████████████████████████████████████████████████████████| 30/30 [00:00<00:00, 603.58it/s]\n",
      "100%|█████████████████████████████████████████████████████████████████████████████████| 18/18 [00:00<00:00, 487.10it/s]\n",
      "100%|█████████████████████████████████████████████████████████████████████████████████| 12/12 [00:00<00:00, 165.61it/s]\n",
      "100%|█████████████████████████████████████████████████████████████████████████████████| 10/10 [00:00<00:00, 149.15it/s]\n",
      "100%|█████████████████████████████████████████████████████████████████████████████████| 56/56 [00:00<00:00, 128.46it/s]\n",
      "100%|███████████████████████████████████████████████████████████████████████████████████| 8/8 [00:00<00:00, 146.13it/s]\n",
      "100%|███████████████████████████████████████████████████████████████████████████████████| 2/2 [00:00<00:00, 167.14it/s]\n",
      "100%|███████████████████████████████████████████████████████████████████████████████| 324/324 [00:01<00:00, 247.70it/s]\n",
      "100%|███████████████████████████████████████████████████████████████████████████████| 162/162 [00:00<00:00, 452.54it/s]"
     ]
    },
    {
     "name": "stdout",
     "output_type": "stream",
     "text": [
      "3870\n"
     ]
    },
    {
     "name": "stderr",
     "output_type": "stream",
     "text": [
      "\n"
     ]
    }
   ],
   "source": [
    "# Data collection \n",
    "\n",
    "training_data = []\n",
    "\n",
    "def create_training_data():\n",
    "    for category in LABLES:  # do dogs and cats\n",
    "\n",
    "        path = os.path.join(DATADIR,str(category))  # create path to dogs and cats\n",
    "        class_num = LABLES.index(category)  # get the classification  (0 or a 1). 0=dog 1=cat\n",
    "\n",
    "        for img in tqdm(os.listdir(path)):  # iterate over each image per dogs and cats\n",
    "            try:\n",
    "                img_array = cv2.imread(os.path.join(path,img) ,cv2.IMREAD_GRAYSCALE)  # convert to array\n",
    "                new_array = cv2.resize(img_array, (IMG_SIZE, IMG_SIZE))  # resize to normalize data size\n",
    "                training_data.append([new_array, class_num])  # add this to our training_data\n",
    "            except Exception as e:  # in the interest in keeping the output clean...\n",
    "                pass\n",
    "            #except OSError as e:\n",
    "            #    print(\"OSErrroBad img most likely\", e, os.path.join(path,img))\n",
    "            #except Exception as e:\n",
    "            #    print(\"general exception\", e, os.path.join(path,img))\n",
    "\n",
    "create_training_data()\n",
    "\n",
    "print(len(training_data))"
   ]
  },
  {
   "cell_type": "code",
   "execution_count": null,
   "id": "f202bb4d",
   "metadata": {},
   "outputs": [],
   "source": []
  },
  {
   "cell_type": "code",
   "execution_count": 29,
   "id": "7d110bcb",
   "metadata": {},
   "outputs": [],
   "source": [
    "import random\n",
    "random.shuffle(training_data)"
   ]
  },
  {
   "cell_type": "code",
   "execution_count": 30,
   "id": "73042950",
   "metadata": {},
   "outputs": [
    {
     "name": "stdout",
     "output_type": "stream",
     "text": [
      "5\n",
      "36\n",
      "48\n",
      "48\n",
      "7\n",
      "26\n",
      "37\n",
      "45\n",
      "24\n",
      "11\n"
     ]
    }
   ],
   "source": [
    "for i in training_data[:10]:\n",
    "    print(i[1])"
   ]
  },
  {
   "cell_type": "code",
   "execution_count": 51,
   "id": "74c5badc",
   "metadata": {},
   "outputs": [],
   "source": [
    "X = []\n",
    "y = []\n",
    "\n",
    "for features,label in training_data:\n",
    "    X.append(features)\n",
    "    y.append(label)\n",
    "\n",
    "X = np.array(X).reshape(-1, IMG_SIZE, IMG_SIZE, 1)\n",
    "y = np.array(y).reshape(-1,1)"
   ]
  },
  {
   "cell_type": "code",
   "execution_count": 49,
   "id": "c210605f",
   "metadata": {},
   "outputs": [
    {
     "data": {
      "text/plain": [
       "(3870, 50, 50, 1)"
      ]
     },
     "execution_count": 49,
     "metadata": {},
     "output_type": "execute_result"
    }
   ],
   "source": [
    "X.shape"
   ]
  },
  {
   "cell_type": "code",
   "execution_count": 52,
   "id": "f2ab7cba",
   "metadata": {},
   "outputs": [
    {
     "data": {
      "text/plain": [
       "(3870, 1)"
      ]
     },
     "execution_count": 52,
     "metadata": {},
     "output_type": "execute_result"
    }
   ],
   "source": [
    "y.shape"
   ]
  },
  {
   "cell_type": "code",
   "execution_count": 36,
   "id": "ad133ad6",
   "metadata": {},
   "outputs": [],
   "source": [
    "import tensorflow as tf\n",
    "from tensorflow.keras.models import Sequential\n",
    "from tensorflow.keras.layers import Dense,MaxPooling2D,Conv2D,Flatten\n",
    "from tensorflow.keras.layers import Dropout,BatchNormalization"
   ]
  },
  {
   "cell_type": "code",
   "execution_count": 57,
   "id": "be713fe9",
   "metadata": {},
   "outputs": [],
   "source": [
    "model = Sequential()\n",
    "\n",
    "#First Convolution layer\n",
    "model.add(Conv2D(32, (3,3), activation=\"relu\", input_shape = X.shape[1:]))\n",
    "model.add(BatchNormalization())\n",
    "model.add(Dropout(0.10))\n",
    "model.add(MaxPooling2D(pool_size=(2,2)))\n",
    "\n",
    "#Second Convolution layer\n",
    "model.add(Conv2D(64, (3,3), activation=\"relu\"))\n",
    "model.add(BatchNormalization())\n",
    "model.add(Dropout(0.10))\n",
    "model.add(MaxPooling2D(pool_size=(2,2)))\n",
    "\n",
    "#Third Convolution layer\n",
    "model.add(Conv2D(64, (3,3), activation=\"relu\"))\n",
    "model.add(BatchNormalization())\n",
    "model.add(Dropout(0.10))\n",
    "model.add(MaxPooling2D(pool_size=(2,2)))\n",
    "\n",
    "#Flattning the layer\n",
    "model.add(Flatten())\n",
    "model.add(Dense(256, activation=\"relu\"))\n",
    "model.add(Dropout(0.10))\n",
    "\n",
    "#Output layer\n",
    "model.add(Dense(50, activation=\"softmax\"))"
   ]
  },
  {
   "cell_type": "code",
   "execution_count": 58,
   "id": "57f7e705",
   "metadata": {},
   "outputs": [
    {
     "name": "stdout",
     "output_type": "stream",
     "text": [
      "Model: \"sequential_1\"\n",
      "_________________________________________________________________\n",
      " Layer (type)                Output Shape              Param #   \n",
      "=================================================================\n",
      " conv2d_3 (Conv2D)           (None, 48, 48, 32)        320       \n",
      "                                                                 \n",
      " batch_normalization_3 (Batc  (None, 48, 48, 32)       128       \n",
      " hNormalization)                                                 \n",
      "                                                                 \n",
      " dropout_4 (Dropout)         (None, 48, 48, 32)        0         \n",
      "                                                                 \n",
      " max_pooling2d_3 (MaxPooling  (None, 24, 24, 32)       0         \n",
      " 2D)                                                             \n",
      "                                                                 \n",
      " conv2d_4 (Conv2D)           (None, 22, 22, 64)        18496     \n",
      "                                                                 \n",
      " batch_normalization_4 (Batc  (None, 22, 22, 64)       256       \n",
      " hNormalization)                                                 \n",
      "                                                                 \n",
      " dropout_5 (Dropout)         (None, 22, 22, 64)        0         \n",
      "                                                                 \n",
      " max_pooling2d_4 (MaxPooling  (None, 11, 11, 64)       0         \n",
      " 2D)                                                             \n",
      "                                                                 \n",
      " conv2d_5 (Conv2D)           (None, 9, 9, 64)          36928     \n",
      "                                                                 \n",
      " batch_normalization_5 (Batc  (None, 9, 9, 64)         256       \n",
      " hNormalization)                                                 \n",
      "                                                                 \n",
      " dropout_6 (Dropout)         (None, 9, 9, 64)          0         \n",
      "                                                                 \n",
      " max_pooling2d_5 (MaxPooling  (None, 4, 4, 64)         0         \n",
      " 2D)                                                             \n",
      "                                                                 \n",
      " flatten_1 (Flatten)         (None, 1024)              0         \n",
      "                                                                 \n",
      " dense_2 (Dense)             (None, 256)               262400    \n",
      "                                                                 \n",
      " dropout_7 (Dropout)         (None, 256)               0         \n",
      "                                                                 \n",
      " dense_3 (Dense)             (None, 50)                12850     \n",
      "                                                                 \n",
      "=================================================================\n",
      "Total params: 331,634\n",
      "Trainable params: 331,314\n",
      "Non-trainable params: 320\n",
      "_________________________________________________________________\n"
     ]
    }
   ],
   "source": [
    "model.summary()"
   ]
  },
  {
   "cell_type": "code",
   "execution_count": 62,
   "id": "2315bd3c",
   "metadata": {},
   "outputs": [],
   "source": [
    "model.compile(loss=\"sparse_categorical_crossentropy\", \n",
    "              optimizer = \"adam\", \n",
    "              metrics=[\"accuracy\"])"
   ]
  },
  {
   "cell_type": "code",
   "execution_count": 63,
   "id": "0f96c29a",
   "metadata": {},
   "outputs": [],
   "source": [
    "from tensorflow.keras.callbacks import EarlyStopping\n",
    "early_stop = EarlyStopping(monitor = \"val_loss\",\n",
    "                          mode = \"min\",\n",
    "                          verbose = 1,\n",
    "                          patience = 20) "
   ]
  },
  {
   "cell_type": "code",
   "execution_count": 65,
   "id": "82a8ab23",
   "metadata": {},
   "outputs": [
    {
     "name": "stdout",
     "output_type": "stream",
     "text": [
      "Epoch 1/15\n",
      "97/97 [==============================] - 21s 212ms/step - loss: 0.0388 - accuracy: 0.9902 - val_loss: 0.0170 - val_accuracy: 0.9948\n",
      "Epoch 2/15\n",
      "97/97 [==============================] - 18s 187ms/step - loss: 0.0178 - accuracy: 0.9963 - val_loss: 0.0135 - val_accuracy: 0.9948\n",
      "Epoch 3/15\n",
      "97/97 [==============================] - 19s 192ms/step - loss: 0.0239 - accuracy: 0.9937 - val_loss: 0.0405 - val_accuracy: 0.9897\n",
      "Epoch 4/15\n",
      "97/97 [==============================] - 19s 192ms/step - loss: 0.0201 - accuracy: 0.9951 - val_loss: 0.0115 - val_accuracy: 0.9974\n",
      "Epoch 5/15\n",
      "97/97 [==============================] - 18s 189ms/step - loss: 0.0199 - accuracy: 0.9951 - val_loss: 0.0063 - val_accuracy: 0.9948\n",
      "Epoch 6/15\n",
      "97/97 [==============================] - 18s 189ms/step - loss: 0.0118 - accuracy: 0.9968 - val_loss: 0.0030 - val_accuracy: 1.0000\n",
      "Epoch 7/15\n",
      "97/97 [==============================] - 19s 193ms/step - loss: 0.0047 - accuracy: 0.9991 - val_loss: 0.0212 - val_accuracy: 0.9948\n",
      "Epoch 8/15\n",
      "97/97 [==============================] - 19s 195ms/step - loss: 0.0035 - accuracy: 0.9991 - val_loss: 0.0589 - val_accuracy: 0.9793\n",
      "Epoch 9/15\n",
      "97/97 [==============================] - 19s 193ms/step - loss: 0.0044 - accuracy: 0.9994 - val_loss: 0.0146 - val_accuracy: 0.9922\n",
      "Epoch 10/15\n",
      "97/97 [==============================] - 19s 192ms/step - loss: 0.0213 - accuracy: 0.9948 - val_loss: 0.0567 - val_accuracy: 0.9871\n",
      "Epoch 11/15\n",
      "97/97 [==============================] - 19s 194ms/step - loss: 0.0553 - accuracy: 0.9859 - val_loss: 0.2239 - val_accuracy: 0.9483\n",
      "Epoch 12/15\n",
      "97/97 [==============================] - 19s 193ms/step - loss: 0.0606 - accuracy: 0.9825 - val_loss: 0.0943 - val_accuracy: 0.9664\n",
      "Epoch 13/15\n",
      "97/97 [==============================] - 19s 196ms/step - loss: 0.0279 - accuracy: 0.9928 - val_loss: 0.0318 - val_accuracy: 0.9922\n",
      "Epoch 14/15\n",
      "97/97 [==============================] - 21s 217ms/step - loss: 0.0267 - accuracy: 0.9934 - val_loss: 0.0831 - val_accuracy: 0.9716\n",
      "Epoch 15/15\n",
      "97/97 [==============================] - 20s 209ms/step - loss: 0.0075 - accuracy: 0.9983 - val_loss: 8.3208e-04 - val_accuracy: 1.0000\n"
     ]
    },
    {
     "data": {
      "text/plain": [
       "<keras.callbacks.History at 0x1b217789b20>"
      ]
     },
     "execution_count": 65,
     "metadata": {},
     "output_type": "execute_result"
    }
   ],
   "source": [
    "model.fit(X,y,epochs=15, batch_size = 36,callbacks=early_stop, validation_split=0.1)"
   ]
  },
  {
   "cell_type": "code",
   "execution_count": 117,
   "id": "b52f5133",
   "metadata": {
    "scrolled": true
   },
   "outputs": [],
   "source": [
    "loss = pd.DataFrame(model.history.history)"
   ]
  },
  {
   "cell_type": "markdown",
   "id": "57de83ce",
   "metadata": {},
   "source": [
    "#### Here we can se that our accuracy is great and validation loss is also great. That means our model is performing at its best.\n"
   ]
  },
  {
   "cell_type": "markdown",
   "id": "6ca08d65",
   "metadata": {},
   "source": [
    "### PREDICTING THE TRAFIC SIGNS "
   ]
  },
  {
   "cell_type": "code",
   "execution_count": null,
   "id": "2708deac",
   "metadata": {},
   "outputs": [],
   "source": [
    "LABLES_names  = list(CATEGORIES[\"Name\"])\n",
    "a = np.asarray(LABLES_names)"
   ]
  },
  {
   "cell_type": "code",
   "execution_count": 144,
   "id": "abe94460",
   "metadata": {},
   "outputs": [
    {
     "data": {
      "text/plain": [
       "<matplotlib.image.AxesImage at 0x1b217900d90>"
      ]
     },
     "execution_count": 144,
     "metadata": {},
     "output_type": "execute_result"
    },
    {
     "data": {
      "image/png": "[encoded data removed]",
      "text/plain": [
       "<Figure size 640x480 with 1 Axes>"
      ]
     },
     "metadata": {},
     "output_type": "display_data"
    }
   ],
   "source": [
    "test_img = cv2.imread(\"C:\\\\Users\\\\PRITAM VERMA\\\\Desktop\\\\Trafic signs\\\\traffic_Data\\\\TEST\\\\006_1_0007_1_j.png\",cv2.IMREAD_GRAYSCALE)\n",
    "# plt.imshow(cv2.cvtColor(test_img,cv2.COLOR_BGR2RGB)) # If the image is colored\n",
    "plt.imshow(test_img)"
   ]
  },
  {
   "cell_type": "code",
   "execution_count": 146,
   "id": "7bdcaab2",
   "metadata": {},
   "outputs": [
    {
     "name": "stdout",
     "output_type": "stream",
     "text": [
      "1/1 [==============================] - 0s 31ms/step\n",
      "\n",
      "\n"
     ]
    },
    {
     "data": {
      "text/plain": [
       "'Speed limit (70km/h)'"
      ]
     },
     "execution_count": 146,
     "metadata": {},
     "output_type": "execute_result"
    }
   ],
   "source": [
    "test_image = cv2.resize(test_img,(IMG_SIZE,IMG_SIZE))\n",
    "final_img = test_image.reshape(1,IMG_SIZE,IMG_SIZE,1)\n",
    "\n",
    "#Final prediction \n",
    "prediction = model.predict(final_img)\n",
    "prediction = prediction.reshape(-1,)\n",
    "print(\"\\n\")\n",
    "combine = {}\n",
    "for A,B in zip(prediction,a):\n",
    "    combine[B] = A \n",
    "pred = max(combine,key=lambda x : combine[x])\n",
    "pred"
   ]
  },
  {
   "cell_type": "code",
   "execution_count": null,
   "id": "9c3087fc",
   "metadata": {},
   "outputs": [],
   "source": []
  }
 ],
 "metadata": {
  "kernelspec": {
   "display_name": "Python 3 (ipykernel)",
   "language": "python",
   "name": "python3"
  },
  "language_info": {
   "codemirror_mode": {
    "name": "ipython",
    "version": 3
   },
   "file_extension": ".py",
   "mimetype": "text/x-python",
   "name": "python",
   "nbconvert_exporter": "python",
   "pygments_lexer": "ipython3",
   "version": "3.9.13"
  }
 },
 "nbformat": 4,
 "nbformat_minor": 5
}
